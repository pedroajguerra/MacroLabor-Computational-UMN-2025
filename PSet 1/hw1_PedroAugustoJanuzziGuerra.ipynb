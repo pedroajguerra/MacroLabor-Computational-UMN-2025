{
 "cells": [
  {
   "cell_type": "markdown",
   "metadata": {},
   "source": [
    "# Homework 1\n",
    "Pedro Augusto Januzzi Guerra"
   ]
  },
  {
   "cell_type": "markdown",
   "metadata": {},
   "source": [
    "I'm auditing the course, so I'll only be solving questions 1 and 3."
   ]
  },
  {
   "cell_type": "markdown",
   "metadata": {},
   "source": [
    "## Question 1"
   ]
  },
  {
   "cell_type": "markdown",
   "metadata": {},
   "source": [
    "I start by coding a function that computes the root of a quadratic equation using the Bhaskara's formula."
   ]
  },
  {
   "cell_type": "code",
   "execution_count": null,
   "metadata": {},
   "outputs": [],
   "source": [
    "function bhaskara(a,b,c)\n",
    "    Δ = b^2 - 4*a*c;\n",
    "    roots = Vector{Float64}(undef, 2);\n",
    "    \n",
    "    roots[1] = (1/2*a)*(-b + sqrt(Δ));\n",
    "    roots[2] = (1/2*a)*(-b - sqrt(Δ));\n",
    "\n",
    "    return roots\n",
    "end"
   ]
  },
  {
   "cell_type": "markdown",
   "metadata": {},
   "source": [
    "Compute larger root of $ax^2 + bx + c$ for $a=1$, $b=100,000$, and $c = 10^n$ for $n=-1,-2,\\cdots,-8$."
   ]
  },
  {
   "cell_type": "code",
   "execution_count": null,
   "metadata": {},
   "outputs": [],
   "source": [
    "a = 1\n",
    "b = 1e5\n",
    "n = -1:-1:-8  \n",
    "solution = [bhaskara(a, b, 10.0^val) for val in n]"
   ]
  },
  {
   "cell_type": "markdown",
   "metadata": {},
   "source": [
    "Now I will use the alternative method:"
   ]
  },
  {
   "cell_type": "code",
   "execution_count": null,
   "metadata": {},
   "outputs": [],
   "source": [
    "function alt_method(a,b,c)\n",
    "    Δ = b^2 - 4*a*c;\n",
    "    roots = Vector{Float64}(undef, 2);\n",
    "\n",
    "    q = -0.5*(b + sign(b)*sqrt(Δ));\n",
    "\n",
    "    roots[2] = q/a;\n",
    "    roots[1] = c/q;\n",
    "\n",
    "    return roots\n",
    "end"
   ]
  },
  {
   "cell_type": "code",
   "execution_count": null,
   "metadata": {},
   "outputs": [],
   "source": [
    "solution_alt = [alt_method(a, b, 10.0^val) for val in n]"
   ]
  },
  {
   "cell_type": "markdown",
   "metadata": {},
   "source": [
    "As the question states, the two methods should yield the same answer. However, due to the rounding error of the computer arithmetic, the results for the larger root are not equal."
   ]
  },
  {
   "cell_type": "markdown",
   "metadata": {},
   "source": [
    "Question: how close are the answers for different values of n?"
   ]
  },
  {
   "cell_type": "markdown",
   "metadata": {},
   "source": [
    "To answer the question, I compute the difference between the larger roots of both methods for each $n = -1,\\cdots,-8$:"
   ]
  },
  {
   "cell_type": "code",
   "execution_count": null,
   "metadata": {},
   "outputs": [],
   "source": [
    "diff = [solution[i][1] - solution_alt[i][1] for i in eachindex(n)]"
   ]
  },
  {
   "cell_type": "code",
   "execution_count": null,
   "metadata": {},
   "outputs": [],
   "source": [
    "using PrettyTables\n",
    "\n",
    "n_values = [\"n=-1\", \"n=-2\", \"n=-3\", \"n=-4\", \"n=-5\", \"n=-6\", \"n=-7\", \"n=-8\"]\n",
    "table_data = hcat(n_values, string.(diff))\n",
    "\n",
    "# Print the table with a title\n",
    "pretty_table(table_data, header=[\"n Value\", \"Difference\"], title=\"Difference between larger roots of both methods\")\n"
   ]
  },
  {
   "cell_type": "markdown",
   "metadata": {},
   "source": [
    "As mentioned earlier, while the answers are not identical computationally, they are extremely close, with differences appearing only in the 12th or 13th decimal place"
   ]
  },
  {
   "cell_type": "markdown",
   "metadata": {},
   "source": [
    "---\n",
    "## Question 3"
   ]
  },
  {
   "cell_type": "markdown",
   "metadata": {},
   "source": [
    "Initialize a struct and assign some parameters to it:"
   ]
  },
  {
   "cell_type": "code",
   "execution_count": 80,
   "metadata": {},
   "outputs": [
    {
     "data": {
      "text/plain": [
       "NeoclassicalGrowthModel"
      ]
     },
     "metadata": {},
     "output_type": "display_data"
    }
   ],
   "source": [
    "using Parameters\n",
    "\n",
    "# Now you can redefine it with @with_kw\n",
    "@with_kw mutable struct NeoclassicalGrowthModel\n",
    "    β::Float64 = 0.98;  # discount factor\n",
    "    α::Float64 = 0.4;   # capital share\n",
    "    δ::Float64 = 0.1;   # depreciation rate\n",
    "    n::Int = 1;         # number of grid points\n",
    "    kgrid::Vector{Float64} = zeros(1)  # capital grid vector\n",
    "    A::Float64 = 1.0; # tfp level\n",
    "end\n"
   ]
  },
  {
   "cell_type": "markdown",
   "metadata": {},
   "source": [
    "Initialize an instance:"
   ]
  },
  {
   "cell_type": "code",
   "execution_count": 81,
   "metadata": {},
   "outputs": [
    {
     "data": {
      "text/plain": [
       "NeoclassicalGrowthModel\n",
       "  β: Float64 0.98\n",
       "  α: Float64 0.4\n",
       "  δ: Float64 0.1\n",
       "  n: Int64 1\n",
       "  kgrid: Array{Float64}((1,)) [0.0]\n",
       "  A: Float64 1.0\n"
      ]
     },
     "metadata": {},
     "output_type": "display_data"
    }
   ],
   "source": [
    "NGM = NeoclassicalGrowthModel()"
   ]
  },
  {
   "cell_type": "markdown",
   "metadata": {},
   "source": [
    "Create a grid for capital around the steady state level:"
   ]
  },
  {
   "cell_type": "code",
   "execution_count": 49,
   "metadata": {},
   "outputs": [],
   "source": [
    "@unpack α,β,δ,A = NGM;\n",
    "\n",
    "# Calculate the steady state capital level for A=1:\n",
    "k_ss = (1/(A*α)*((1/β)+δ-1))^(1/(α-1));\n",
    "\n",
    "# Create a linearly spaced grid around the steady state value:\n",
    "lb = 0.6*k_ss; # 40% decrease of k_ss \n",
    "ub = 1.4*k_ss; # 40% increase of k_ss\n",
    "n = 11; # number of grid points\n",
    "\n",
    "# Grid: \n",
    "kgrid = LinRange(lb,ub,n);\n",
    "\n",
    "# Include grid and number of points in the struct\n",
    "NGM.kgrid = kgrid;\n",
    "NGM.n = n;"
   ]
  },
  {
   "cell_type": "markdown",
   "metadata": {},
   "source": [
    "Create a function to compute utility:"
   ]
  },
  {
   "cell_type": "code",
   "execution_count": 50,
   "metadata": {},
   "outputs": [],
   "source": [
    "u = c -> log(c);"
   ]
  },
  {
   "cell_type": "code",
   "execution_count": 51,
   "metadata": {},
   "outputs": [],
   "source": [
    "using LinearAlgebra"
   ]
  },
  {
   "cell_type": "markdown",
   "metadata": {},
   "source": [
    "Create a function for VFI where the stopping rule is based on value function convergence (not used here, but might be useful in the future):"
   ]
  },
  {
   "cell_type": "code",
   "execution_count": null,
   "metadata": {},
   "outputs": [],
   "source": [
    "function vfi1(NGM::NeoclassicalGrowthModel,Vguess::Vector{Float64},tol::Float64) \n",
    "    @unpack α,β,δ,n,kgrid = NGM;\n",
    "\n",
    "    # Initialize values for the interation \n",
    "    dif = 1;\n",
    "    iter = 0;\n",
    "    Vold = Vguess;\n",
    "    Vnew = Vold;\n",
    "    k′ = Vector{Float64}(undef,n); # policy function for capital\n",
    "    \n",
    "    # vfi \n",
    "    while dif>tol\n",
    "        Vold = copy(Vnew);\n",
    "        for i = 1:n \n",
    "            vec = Vector{Float64}(undef,n);\n",
    "            for j = 1:n # loop on k′\n",
    "                # compute consumption \n",
    "                c = kgrid[i]^α + (1-δ)*kgrid[i] - kgrid[j]; # note that I'm assuming k′ lies on the same grid as k\n",
    "                \n",
    "                # compute utility \n",
    "                if c > 0\n",
    "                    util = u(c);\n",
    "                else\n",
    "                    util = -Inf;\n",
    "                end\n",
    "\n",
    "                # vector to evaluate and choose optimal k′\n",
    "                vec[j] = util + β*Vold[j];\n",
    "            end\n",
    "\n",
    "            # compute optimal choice for k′\n",
    "            Vnew[i] = maximum(vec);\n",
    "            idx = findfirst(v -> v == Vnew[i], vec);\n",
    "            k′[i] = kgrid[idx];\n",
    "        end\n",
    "\n",
    "        # Stopping rule based on value function convergence:\n",
    "        dif = norm(Vnew-Vold,Inf);\n",
    "        iter += 1;\n",
    "\n",
    "        # Print iteration and difference between Vnew and Vold\n",
    "        println(\"Iteration $iter: Difference between Vnew and Vold = \", dif)\n",
    "    end\n",
    "\n",
    "    return Vnew, k′, iter\n",
    "end"
   ]
  },
  {
   "cell_type": "markdown",
   "metadata": {},
   "source": [
    "Create a function for VFI where the stopping rule is based on policy function convergence:"
   ]
  },
  {
   "cell_type": "code",
   "execution_count": null,
   "metadata": {},
   "outputs": [],
   "source": [
    "function vfi2(NGM::NeoclassicalGrowthModel, Vguess::Vector{Float64}, tol::Float64)::Tuple{Vector{Float64}, Vector{Float64}, Int64}\n",
    "    @unpack α, β, δ, n, kgrid = NGM;\n",
    "\n",
    "    # Initialize values for the iteration \n",
    "    dif = 1;\n",
    "    iter = 0;\n",
    "    Vold = Vguess;\n",
    "    Vnew = Vold;\n",
    "    k′ = Vector{Float64}(undef, n);  # policy function for capital\n",
    "    k′old = copy(k′);  # initialize previous policy function for convergence check\n",
    "    \n",
    "    # vfi \n",
    "    while dif > tol\n",
    "        k′old = copy(k′)  # Update previous policy function\n",
    "        Vold = copy(Vnew);\n",
    "    \n",
    "        for i = 1:n \n",
    "            vec = Vector{Float64}(undef, n);\n",
    "            \n",
    "            for j = 1:n  # loop on k′\n",
    "                # compute consumption \n",
    "                c = kgrid[i]^α + (1 - δ) * kgrid[i] - kgrid[j];  # assuming k′ lies on the same grid as k\n",
    "                \n",
    "                # compute utility \n",
    "                if c > 0\n",
    "                    util = u(c);\n",
    "                else\n",
    "                    util = -Inf;\n",
    "                end\n",
    "\n",
    "                # vector to evaluate and choose optimal k′\n",
    "                vec[j] = util + β * Vold[j];\n",
    "            end\n",
    "\n",
    "            # compute optimal choice for k′\n",
    "            Vnew[i] = maximum(vec);\n",
    "            idx = findfirst(v -> v == Vnew[i], vec);\n",
    "            k′[i] = kgrid[idx];\n",
    "        end\n",
    "\n",
    "        # Stopping rule based on policy function convergence:\n",
    "        dif = norm(k′ - k′old, Inf);  # Convergence based on the change in the policy function        \n",
    "        iter += 1;\n",
    "\n",
    "        # Print iteration and difference between k′ and k′old\n",
    "        println(\"Iteration $iter: Policy function difference = \", dif)\n",
    "    end\n",
    "\n",
    "    return Vnew, k′, iter\n",
    "end\n"
   ]
  },
  {
   "cell_type": "markdown",
   "metadata": {},
   "source": [
    "### Item (a)"
   ]
  },
  {
   "cell_type": "markdown",
   "metadata": {},
   "source": [
    "I will solve the VFI for different grid sizes: $n=11$, $n=101$, and $n=1001$."
   ]
  },
  {
   "cell_type": "code",
   "execution_count": null,
   "metadata": {},
   "outputs": [],
   "source": [
    "n_values = [11, 101, 1001]; # possible grid sizes\n",
    "V = Vector{Vector{Float64}}(undef, length(n_values));  # create an array to store value function for all cases\n",
    "k′ = Vector{Vector{Float64}}(undef, length(n_values)); # create an array to store policy function for all cases\n",
    "iter = Vector{Float64}(undef,length(n_values)); # create an array to store the number of iterations\n",
    "grid_aux = Vector{Vector{Float64}}(undef, length(n_values)); # create an array to store the kgrids\n",
    "\n",
    "tol = 1e-8; # tolerance\n",
    "\n",
    "for i in eachindex(n_values)\n",
    "    V[i] = Vector{Float64}(undef, n_values[i]); # initialize inner vector\n",
    "    k′[i] = Vector{Float64}(undef, n_values[i]); # initialize inner vector\n",
    "    grid_aux[i] = Vector{Float64}(undef, n_values[i]); # initialize inner vector\n",
    "    \n",
    "    n = n_values[i]; # number of grid points\n",
    "    kgrid = LinRange(lb,ub,n); # capital grid based on number of grid points\n",
    "    NGM.kgrid = kgrid; # update kgrid in the struct\n",
    "    NGM.n = n; # update n in the struct\n",
    "\n",
    "    grid_aux[i] = kgrid;\n",
    "    \n",
    "    Vguess = zeros(n);\n",
    "    \n",
    "    V[i], k′[i], iter[i] = vfi2(NGM, Vguess, tol);\n",
    "\n",
    "end\n"
   ]
  },
  {
   "cell_type": "markdown",
   "metadata": {},
   "source": [
    "#### Subitem (i)"
   ]
  },
  {
   "cell_type": "markdown",
   "metadata": {},
   "source": [
    "Let's compute the number of iterations it took to converge for all grid sizes considered:"
   ]
  },
  {
   "cell_type": "code",
   "execution_count": null,
   "metadata": {},
   "outputs": [],
   "source": [
    "n_title = [\"n=11\", \"n=101\", \"n=1001\"]\n",
    "table_data = hcat(n_title, string.(iter))\n",
    "\n",
    "# Print the table with a title\n",
    "pretty_table(table_data, header=[\"Grid points\", \"Number of iterations\"], title=\"Number of iterations it took for VFI to stop\")"
   ]
  },
  {
   "cell_type": "markdown",
   "metadata": {},
   "source": [
    "#### Subitem (ii)"
   ]
  },
  {
   "cell_type": "markdown",
   "metadata": {},
   "source": [
    "Plot value and policy function side by side for n = 11:"
   ]
  },
  {
   "cell_type": "code",
   "execution_count": null,
   "metadata": {},
   "outputs": [],
   "source": [
    "using Plots \n",
    "# create two plots side by side\n",
    "plot1 = plot(grid_aux[1,], V[1,], title=\"Value Function\", label=false, xlabel=\"k\", ylabel=\"V\")\n",
    "plot2 = plot(grid_aux[1,], k′[1,], title=\"Policy Function\", label=false, xlabel=\"k\", ylabel=\"k'\")\n",
    "\n",
    "# display the two plots side by side\n",
    "plot(plot1, plot2, layout=(1, 2),size=(800, 400),margin = 5Plots.mm)"
   ]
  },
  {
   "cell_type": "markdown",
   "metadata": {},
   "source": [
    "Plot value and policy function side by side for n = 101:"
   ]
  },
  {
   "cell_type": "code",
   "execution_count": null,
   "metadata": {},
   "outputs": [],
   "source": [
    "# create two plots side by side\n",
    "plot1 = plot(grid_aux[2,], V[2,], title=\"Value Function\", label=false, xlabel=\"k\", ylabel=\"V\")\n",
    "plot2 = plot(grid_aux[2,], k′[2,], title=\"Policy Function\", label=false, xlabel=\"k\", ylabel=\"k'\")\n",
    "\n",
    "# display the two plots side by side\n",
    "plot(plot1, plot2, layout=(1, 2),size=(800, 400),margin = 5Plots.mm)"
   ]
  },
  {
   "cell_type": "markdown",
   "metadata": {},
   "source": [
    "Plot value and policy function side by side for n = 1001:"
   ]
  },
  {
   "cell_type": "code",
   "execution_count": null,
   "metadata": {},
   "outputs": [],
   "source": [
    "# create two plots side by side\n",
    "plot1 = plot(grid_aux[3,], V[3,], title=\"Value Function\", label=false, xlabel=\"k\", ylabel=\"V\")\n",
    "plot2 = plot(grid_aux[3,], k′[3,], title=\"Policy Function\", label=false, xlabel=\"k\", ylabel=\"k'\")\n",
    "\n",
    "# display the two plots side by side\n",
    "plot(plot1, plot2, layout=(1, 2),size=(800, 400),margin = 5Plots.mm)"
   ]
  },
  {
   "cell_type": "markdown",
   "metadata": {},
   "source": [
    "As shown in the figures above, the value function is strictly increasing and strictly concave, which aligns with expectations given the utility and production functions. These functions satisfy the assumptions outlined in Chapter 4 of SLP, ensuring that the theorems discussed in the book—implying strict monotonicity and concavity—hold.\n",
    "\n",
    "Regarding the policy function, we expected it to be strictly increasing. However, as observed (particularly for the cases with $n=11$ and $n=101$) the policy function is not strictly increasing but simply increasing. This behavior is a direct consequence of our decision to use a coarse grid and allow $k^\\prime$ to lie on the same grid as $k$"
   ]
  },
  {
   "cell_type": "markdown",
   "metadata": {},
   "source": [
    "### Item (b)"
   ]
  },
  {
   "cell_type": "markdown",
   "metadata": {},
   "source": [
    "I will solve item (a) again but with different tolerances. First, I use $10^{-6}$ as tolerance."
   ]
  },
  {
   "cell_type": "code",
   "execution_count": null,
   "metadata": {},
   "outputs": [],
   "source": [
    "tol = 1e-6;\n",
    "\n",
    "n_values = [11, 101, 1001]; # possible grid sizes\n",
    "V = Vector{Vector{Float64}}(undef, length(n_values));  # create an array to store value function for all cases\n",
    "k′ = Vector{Vector{Float64}}(undef, length(n_values)); # create an array to store policy function for all cases\n",
    "iter = Vector{Float64}(undef,length(n_values)); # create an array to store the number of iterations\n",
    "grid_aux = Vector{Vector{Float64}}(undef, length(n_values)); # create an array to store the kgrids\n",
    "\n",
    "\n",
    "\n",
    "for i in eachindex(n_values)\n",
    "    V[i] = Vector{Float64}(undef, n_values[i]); # initialize inner vector\n",
    "    k′[i] = Vector{Float64}(undef, n_values[i]); # initialize inner vector\n",
    "    grid_aux[i] = Vector{Float64}(undef, n_values[i]); # initialize inner vector\n",
    "    \n",
    "    n = n_values[i]; # number of grid points\n",
    "    kgrid = LinRange(lb,ub,n); # capital grid based on number of grid points\n",
    "    NGM.kgrid = kgrid; # update kgrid in the struct\n",
    "    NGM.n = n; # update n in the struct\n",
    "\n",
    "    grid_aux[i] = kgrid;\n",
    "    \n",
    "    Vguess = zeros(n);\n",
    "    \n",
    "    V[i], k′[i], iter[i] = vfi2(NGM, Vguess, tol);\n",
    "\n",
    "end"
   ]
  },
  {
   "cell_type": "markdown",
   "metadata": {},
   "source": [
    "Number of iterations:"
   ]
  },
  {
   "cell_type": "code",
   "execution_count": null,
   "metadata": {},
   "outputs": [],
   "source": [
    "n_title = [\"n=11\", \"n=101\", \"n=1001\"]\n",
    "table_data = hcat(n_title, string.(iter))\n",
    "\n",
    "# Print the table with a title\n",
    "pretty_table(table_data, header=[\"Grid points\", \"Number of iterations\"], title=\"Number of iterations it took for VFI to stop\")"
   ]
  },
  {
   "cell_type": "markdown",
   "metadata": {},
   "source": [
    "Graphs for $n = 11$:"
   ]
  },
  {
   "cell_type": "code",
   "execution_count": null,
   "metadata": {},
   "outputs": [],
   "source": [
    "# create two plots side by side\n",
    "plot1 = plot(grid_aux[1,], V[1,], title=\"Value Function\", label=false, xlabel=\"k\", ylabel=\"V\")\n",
    "plot2 = plot(grid_aux[1,], k′[1,], title=\"Policy Function\", label=false, xlabel=\"k\", ylabel=\"k'\")\n",
    "\n",
    "# display the two plots side by side\n",
    "plot(plot1, plot2, layout=(1, 2),size=(800, 400),margin = 5Plots.mm)"
   ]
  },
  {
   "cell_type": "markdown",
   "metadata": {},
   "source": [
    "Graphs for $n=101$:"
   ]
  },
  {
   "cell_type": "code",
   "execution_count": null,
   "metadata": {},
   "outputs": [],
   "source": [
    "# create two plots side by side\n",
    "plot1 = plot(grid_aux[2,], V[2,], title=\"Value Function\", label=false, xlabel=\"k\", ylabel=\"V\")\n",
    "plot2 = plot(grid_aux[2,], k′[2,], title=\"Policy Function\", label=false, xlabel=\"k\", ylabel=\"k'\")\n",
    "\n",
    "# display the two plots side by side\n",
    "plot(plot1, plot2, layout=(1, 2),size=(800, 400),margin = 5Plots.mm)"
   ]
  },
  {
   "cell_type": "markdown",
   "metadata": {},
   "source": [
    "Graphs for $n=1001$:"
   ]
  },
  {
   "cell_type": "code",
   "execution_count": null,
   "metadata": {},
   "outputs": [],
   "source": [
    "# create two plots side by side\n",
    "plot1 = plot(grid_aux[3,], V[3,], title=\"Value Function\", label=false, xlabel=\"k\", ylabel=\"V\")\n",
    "plot2 = plot(grid_aux[3,], k′[3,], title=\"Policy Function\", label=false, xlabel=\"k\", ylabel=\"k'\")\n",
    "\n",
    "# display the two plots side by side\n",
    "plot(plot1, plot2, layout=(1, 2),size=(800, 400),margin = 5Plots.mm)"
   ]
  },
  {
   "cell_type": "markdown",
   "metadata": {},
   "source": [
    "Now I do the same but using a tolerance of $10^{-5}$."
   ]
  },
  {
   "cell_type": "code",
   "execution_count": null,
   "metadata": {},
   "outputs": [],
   "source": [
    "tol = 1e-5;\n",
    "\n",
    "n_values = [11, 101, 1001]; # possible grid sizes\n",
    "V = Vector{Vector{Float64}}(undef, length(n_values));  # create an array to store value function for all cases\n",
    "k′ = Vector{Vector{Float64}}(undef, length(n_values)); # create an array to store policy function for all cases\n",
    "iter = Vector{Float64}(undef,length(n_values)); # create an array to store the number of iterations\n",
    "grid_aux = Vector{Vector{Float64}}(undef, length(n_values)); # create an array to store the kgrids\n",
    "\n",
    "\n",
    "\n",
    "for i in eachindex(n_values)\n",
    "    V[i] = Vector{Float64}(undef, n_values[i]); # initialize inner vector\n",
    "    k′[i] = Vector{Float64}(undef, n_values[i]); # initialize inner vector\n",
    "    grid_aux[i] = Vector{Float64}(undef, n_values[i]); # initialize inner vector\n",
    "    \n",
    "    n = n_values[i]; # number of grid points\n",
    "    kgrid = LinRange(lb,ub,n); # capital grid based on number of grid points\n",
    "    NGM.kgrid = kgrid; # update kgrid in the struct\n",
    "    NGM.n = n; # update n in the struct\n",
    "\n",
    "    grid_aux[i] = kgrid;\n",
    "    \n",
    "    Vguess = zeros(n);\n",
    "    \n",
    "    V[i], k′[i], iter[i] = vfi2(NGM, Vguess, tol);\n",
    "\n",
    "end"
   ]
  },
  {
   "cell_type": "code",
   "execution_count": null,
   "metadata": {},
   "outputs": [],
   "source": [
    "n_title = [\"n=11\", \"n=101\", \"n=1001\"]\n",
    "table_data = hcat(n_title, string.(iter))\n",
    "\n",
    "# Print the table with a title\n",
    "pretty_table(table_data, header=[\"Grid points\", \"Number of iterations\"], title=\"Number of iterations it took for VFI to stop\")"
   ]
  },
  {
   "cell_type": "code",
   "execution_count": null,
   "metadata": {},
   "outputs": [],
   "source": [
    "# create two plots side by side\n",
    "plot1 = plot(grid_aux[1,], V[1,], title=\"Value Function\", label=false, xlabel=\"k\", ylabel=\"V\")\n",
    "plot2 = plot(grid_aux[1,], k′[1,], title=\"Policy Function\", label=false, xlabel=\"k\", ylabel=\"k'\")\n",
    "\n",
    "# display the two plots side by side\n",
    "plot(plot1, plot2, layout=(1, 2),size=(800, 400),margin = 5Plots.mm)"
   ]
  },
  {
   "cell_type": "code",
   "execution_count": null,
   "metadata": {},
   "outputs": [],
   "source": [
    "# create two plots side by side\n",
    "plot1 = plot(grid_aux[2,], V[2,], title=\"Value Function\", label=false, xlabel=\"k\", ylabel=\"V\")\n",
    "plot2 = plot(grid_aux[2,], k′[2,], title=\"Policy Function\", label=false, xlabel=\"k\", ylabel=\"k'\")\n",
    "\n",
    "# display the two plots side by side\n",
    "plot(plot1, plot2, layout=(1, 2),size=(800, 400),margin = 5Plots.mm)"
   ]
  },
  {
   "cell_type": "code",
   "execution_count": null,
   "metadata": {},
   "outputs": [],
   "source": [
    "# create two plots side by side\n",
    "plot1 = plot(grid_aux[3,], V[3,], title=\"Value Function\", label=false, xlabel=\"k\", ylabel=\"V\")\n",
    "plot2 = plot(grid_aux[3,], k′[3,], title=\"Policy Function\", label=false, xlabel=\"k\", ylabel=\"k'\")\n",
    "\n",
    "# display the two plots side by side\n",
    "plot(plot1, plot2, layout=(1, 2),size=(800, 400),margin = 5Plots.mm)"
   ]
  },
  {
   "cell_type": "markdown",
   "metadata": {},
   "source": [
    "Summary: The number of iterations has remained unchanged, and the graphs appear similar to those from part (a). While this might initially seem unusual, the convergence of the policy function clarifies the situation. As the difference between the policy functions from two consecutive iterations converges precisely to zero in all cases above, adjusting the tolerance from $10^{-8}$ to $10^{-6}$ or $10^{-5}$ does not affect the results."
   ]
  },
  {
   "cell_type": "markdown",
   "metadata": {},
   "source": [
    "### Item (c)"
   ]
  },
  {
   "cell_type": "markdown",
   "metadata": {},
   "source": [
    "First, I will repeat part (a) considering full depreciation ($\\delta=1$)."
   ]
  },
  {
   "cell_type": "code",
   "execution_count": null,
   "metadata": {},
   "outputs": [],
   "source": [
    "tol = 1e-8;\n",
    "δ = 1;\n",
    "NGM.δ = δ;\n",
    "\n",
    "# update grid choices\n",
    "k_ss = (1/(A*α)*((1/β)+δ-1))^(1/(α-1));\n",
    "lb = 0.6*k_ss; # 40% decrease of k_ss \n",
    "ub = 1.4*k_ss; # 40% increase of k_ss\n",
    "\n",
    "n_values = [11, 101, 1001]; # possible grid sizes\n",
    "V = Vector{Vector{Float64}}(undef, length(n_values));  # create an array to store value function for all cases\n",
    "k′ = Vector{Vector{Float64}}(undef, length(n_values)); # create an array to store policy function for all cases\n",
    "iter = Vector{Float64}(undef,length(n_values)); # create an array to store the number of iterations\n",
    "grid_aux = Vector{Vector{Float64}}(undef, length(n_values)); # create an array to store the kgrids\n",
    "\n",
    "\n",
    "\n",
    "for i in eachindex(n_values)\n",
    "    V[i] = Vector{Float64}(undef, n_values[i]); # initialize inner vector\n",
    "    k′[i] = Vector{Float64}(undef, n_values[i]); # initialize inner vector\n",
    "    grid_aux[i] = Vector{Float64}(undef, n_values[i]); # initialize inner vector\n",
    "    \n",
    "    n = n_values[i]; # number of grid points\n",
    "    kgrid = LinRange(lb,ub,n); # capital grid based on number of grid points\n",
    "    NGM.kgrid = kgrid; # update kgrid in the struct\n",
    "    NGM.n = n; # update n in the struct\n",
    "\n",
    "    grid_aux[i] = kgrid;\n",
    "    \n",
    "    Vguess = zeros(n);\n",
    "    \n",
    "    V[i], k′[i], iter[i] = vfi2(NGM, Vguess, tol);\n",
    "\n",
    "end"
   ]
  },
  {
   "cell_type": "markdown",
   "metadata": {},
   "source": [
    "Number of iterations:"
   ]
  },
  {
   "cell_type": "code",
   "execution_count": null,
   "metadata": {},
   "outputs": [],
   "source": [
    "n_title = [\"n=11\", \"n=101\", \"n=1001\"]\n",
    "table_data = hcat(n_title, string.(iter))\n",
    "\n",
    "# Print the table with a title\n",
    "pretty_table(table_data, header=[\"Grid points\", \"Number of iterations\"], title=\"Number of iterations it took for VFI to stop\")"
   ]
  },
  {
   "cell_type": "markdown",
   "metadata": {},
   "source": [
    "Plot graphs for $n=11$, $n=101$, and $n=1001$, respectively:"
   ]
  },
  {
   "cell_type": "code",
   "execution_count": null,
   "metadata": {},
   "outputs": [],
   "source": [
    "# create two plots side by side\n",
    "plot1 = plot(grid_aux[1,], V[1,], title=\"Value Function\", label=false, xlabel=\"k\", ylabel=\"V\")\n",
    "plot2 = plot(grid_aux[1,], k′[1,], title=\"Policy Function\", label=false, xlabel=\"k\", ylabel=\"k'\")\n",
    "\n",
    "# display the two plots side by side\n",
    "plot(plot1, plot2, layout=(1, 2),size=(800, 400),margin = 5Plots.mm)"
   ]
  },
  {
   "cell_type": "code",
   "execution_count": null,
   "metadata": {},
   "outputs": [],
   "source": [
    "# create two plots side by side\n",
    "plot1 = plot(grid_aux[2,], V[2,], title=\"Value Function\", label=false, xlabel=\"k\", ylabel=\"V\")\n",
    "plot2 = plot(grid_aux[2,], k′[2,], title=\"Policy Function\", label=false, xlabel=\"k\", ylabel=\"k'\")\n",
    "\n",
    "# display the two plots side by side\n",
    "plot(plot1, plot2, layout=(1, 2),size=(800, 400),margin = 5Plots.mm)"
   ]
  },
  {
   "cell_type": "code",
   "execution_count": null,
   "metadata": {},
   "outputs": [],
   "source": [
    "# create two plots side by side\n",
    "plot1 = plot(grid_aux[3,], V[3,], title=\"Value Function\", label=false, xlabel=\"k\", ylabel=\"V\")\n",
    "plot2 = plot(grid_aux[3,], k′[3,], title=\"Policy Function\", label=false, xlabel=\"k\", ylabel=\"k'\")\n",
    "\n",
    "# display the two plots side by side\n",
    "plot(plot1, plot2, layout=(1, 2),size=(800, 400),margin = 5Plots.mm)"
   ]
  },
  {
   "cell_type": "markdown",
   "metadata": {},
   "source": [
    "#### Subitem (i)"
   ]
  },
  {
   "cell_type": "markdown",
   "metadata": {},
   "source": [
    "First, I will compute the true solution:"
   ]
  },
  {
   "cell_type": "code",
   "execution_count": 75,
   "metadata": {},
   "outputs": [],
   "source": [
    "# Get a0 and a1\n",
    "a1 = α/(1-α*β);\n",
    "a0 = (1/(1-β))*(1/(1-α*β))*(log(A) - log(1/(1-α*β)) + β*α*log(β) + β*α*log(α/(1-α*β))); \n",
    "\n",
    "n_values = [11, 101, 1001]; # possible grid sizes\n",
    "Vtrue = Vector{Vector{Float64}}(undef, length(n_values));\n",
    "k′_true = Vector{Vector{Float64}}(undef, length(n_values));\n",
    "grid_aux = Vector{Vector{Float64}}(undef, length(n_values)); \n",
    "\n",
    "for i in eachindex(n_values)\n",
    "    Vtrue[i] = Vector{Float64}(undef, n_values[i]); # initialize inner vector\n",
    "    k′_true[i] = Vector{Float64}(undef, n_values[i]); # initialize inner vector\n",
    "    grid_aux[i] = Vector{Float64}(undef, n_values[i]); # initialize inner vector\n",
    "    \n",
    "    n = n_values[i]; # number of grid points\n",
    "    kgrid = LinRange(lb,ub,n);\n",
    "    grid_aux[i] = kgrid;\n",
    "\n",
    "    for j = 1:n \n",
    "        Vtrue[i][j] = a0 + a1*log(kgrid[j]);\n",
    "        k′_true[i][j] = β*a1*A*kgrid[j]^α/(1+β*a1);\n",
    "    end\n",
    "    \n",
    "end"
   ]
  },
  {
   "cell_type": "markdown",
   "metadata": {},
   "source": [
    "Plot the analytical and numerical solutions:"
   ]
  },
  {
   "cell_type": "code",
   "execution_count": null,
   "metadata": {},
   "outputs": [],
   "source": [
    "plot1 = plot(grid_aux[3,], V[3,], title=\"Value Function\", label=\"Numerical Solution\", xlabel=\"k\", ylabel=\"V\")\n",
    "plot2 = plot(grid_aux[3,], Vtrue[3,], title=\"Value Function\", label=\"Analytical Solution\", xlabel=\"k\", ylabel=\"k'\")\n",
    "\n",
    "# display the two plots side by side\n",
    "plot(plot1, plot2, layout=(1, 2),size=(800, 400),margin = 5Plots.mm)"
   ]
  },
  {
   "cell_type": "markdown",
   "metadata": {},
   "source": [
    "\n",
    "The difference between the value function values in the numerical and analytical solutions is quite evident on the y-axis, making it clear that plotting them on the same graph wouldn't be meaningful.\n",
    "\n",
    "However, for the policy function, the analytical and numerical solutions are very similar, as shown in the next graph..."
   ]
  },
  {
   "cell_type": "code",
   "execution_count": null,
   "metadata": {},
   "outputs": [],
   "source": [
    "plot(grid_aux[3,], k′[3,], title=\"Policy Function\", label=\"Numerical Solution\", xlabel=\"k\", ylabel=\"k'\")\n",
    "plot!(grid_aux[3,], k′_true[3,], title=\"Policy Function\", label=\"Analytical Solution\", xlabel=\"k\", ylabel=\"k'\")"
   ]
  },
  {
   "cell_type": "markdown",
   "metadata": {},
   "source": [
    "...although they are not identical. Zooming in reveals the differences more clearly:"
   ]
  },
  {
   "cell_type": "code",
   "execution_count": null,
   "metadata": {},
   "outputs": [],
   "source": [
    "plot(grid_aux[3,], k′[3,], title=\"Policy Function\", label=\"Numerical Solution\", xlabel=\"k\", ylabel=\"k'\",xlims=(0.18,0.185),margin = 5Plots.mm)\n",
    "plot!(grid_aux[3,], k′_true[3,], title=\"Policy Function\", label=\"Analytical Solution\", xlabel=\"k\", ylabel=\"k'\",ylims=(0.1972,0.1999))"
   ]
  },
  {
   "cell_type": "markdown",
   "metadata": {},
   "source": [
    "#### Subitem (ii)"
   ]
  },
  {
   "cell_type": "code",
   "execution_count": null,
   "metadata": {},
   "outputs": [],
   "source": [
    "\n",
    "n_values = [11, 101, 1001]\n",
    "iterations = [\n",
    "    9  9  9 7;\n",
    "    36  36  36 11;\n",
    "    72  72  72 16\n",
    "] # I decided to write it manually to avoid coming back and change several pieces of the code\n",
    "\n",
    "\n",
    "# Headers\n",
    "header = [\"n\", \"Item (a)\", \"Item (b) - tol 10^{-6}\", \"Item (b) - tol 10^{-5}\", \"Item (c)\"]\n",
    "\n",
    "# Add n values as the first column of iterations data\n",
    "table_data = hcat(n_values, iterations)\n",
    "\n",
    "# Print the table with a title\n",
    "pretty_table(table_data, header=header, title=\"Number of iterations\")\n",
    "\n"
   ]
  }
 ],
 "metadata": {
  "kernelspec": {
   "display_name": "Julia 1.11.1",
   "language": "julia",
   "name": "julia-1.11"
  },
  "language_info": {
   "file_extension": ".jl",
   "mimetype": "application/julia",
   "name": "julia",
   "version": "1.11.1"
  }
 },
 "nbformat": 4,
 "nbformat_minor": 2
}
